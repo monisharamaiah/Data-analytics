{
 "cells": [
  {
   "cell_type": "code",
   "execution_count": 2,
   "id": "5f54c0b4-747f-44ef-8fec-7bfca1ae4132",
   "metadata": {},
   "outputs": [
    {
     "name": "stdout",
     "output_type": "stream",
     "text": [
      "<class 'int'>\n",
      "<class 'float'>\n"
     ]
    }
   ],
   "source": [
    "a=90\n",
    "b=98.5\n",
    "print(type(a))\n",
    "print(type(b))"
   ]
  },
  {
   "cell_type": "code",
   "execution_count": 3,
   "id": "7d781ec0-0f7a-4ed5-bcbf-75c9cb01f17a",
   "metadata": {},
   "outputs": [
    {
     "name": "stdout",
     "output_type": "stream",
     "text": [
      "188.5\n"
     ]
    }
   ],
   "source": [
    "print(a+b)"
   ]
  },
  {
   "cell_type": "code",
   "execution_count": 29,
   "id": "269ca99c-214e-4d70-b3e0-5c5624603a33",
   "metadata": {},
   "outputs": [
    {
     "data": {
      "text/plain": [
       "str"
      ]
     },
     "execution_count": 29,
     "metadata": {},
     "output_type": "execute_result"
    }
   ],
   "source": [
    "num=\"90\"\n",
    "type(num)"
   ]
  },
  {
   "cell_type": "code",
   "execution_count": 4,
   "id": "cc5db830-f474-44da-90f3-7a932aaecf4f",
   "metadata": {},
   "outputs": [],
   "source": [
    "def taxcal(S, T):\n",
    "    Tax=((T/100)*S)\n",
    "    return Tax"
   ]
  },
  {
   "cell_type": "code",
   "execution_count": 5,
   "id": "ece5f557-26b6-4410-9a50-fae6cdf8953c",
   "metadata": {},
   "outputs": [
    {
     "data": {
      "text/plain": [
       "5000.0"
      ]
     },
     "execution_count": 5,
     "metadata": {},
     "output_type": "execute_result"
    }
   ],
   "source": [
    "taxcal(50000, 10)"
   ]
  },
  {
   "cell_type": "code",
   "execution_count": null,
   "id": "ba339374-5a70-49ef-bc49-17cc5ee96ead",
   "metadata": {},
   "outputs": [],
   "source": [
    "list1=[]"
   ]
  },
  {
   "cell_type": "code",
   "execution_count": 22,
   "id": "ee6f8db9-634b-4a7b-ae9f-f33c0377df2f",
   "metadata": {},
   "outputs": [],
   "source": [
    "def tax(S):\n",
    "    if(S<10000 and S>0):\n",
    "        tax=0.05*S\n",
    "        return tax\n",
    "    elif(S>=10000 and S<50000):\n",
    "        tax=0.1*S\n",
    "        return tax\n",
    "    elif(S>=50000 and S<200000):\n",
    "        tax=0.15*S\n",
    "        return tax\n",
    "    elif(S>=200000):\n",
    "        tax=0.2*S\n",
    "        return tax\n",
    "    else:\n",
    "        return \"invalid\""
   ]
  },
  {
   "cell_type": "code",
   "execution_count": 23,
   "id": "484d5759-2ef0-4d0f-b6f4-dbe1cafd7177",
   "metadata": {},
   "outputs": [
    {
     "data": {
      "text/plain": [
       "9000.0"
      ]
     },
     "execution_count": 23,
     "metadata": {},
     "output_type": "execute_result"
    }
   ],
   "source": [
    "tax(60000)"
   ]
  },
  {
   "cell_type": "code",
   "execution_count": 24,
   "id": "b22bfbcf-9ee7-4ffe-ba81-e9ce41fb9775",
   "metadata": {},
   "outputs": [
    {
     "data": {
      "text/plain": [
       "7500.0"
      ]
     },
     "execution_count": 24,
     "metadata": {},
     "output_type": "execute_result"
    }
   ],
   "source": [
    "tax(50000)"
   ]
  },
  {
   "cell_type": "code",
   "execution_count": 25,
   "id": "7d1c3a84-8284-4efc-892e-961fdc5f44c2",
   "metadata": {},
   "outputs": [
    {
     "data": {
      "text/plain": [
       "'invalid'"
      ]
     },
     "execution_count": 25,
     "metadata": {},
     "output_type": "execute_result"
    }
   ],
   "source": [
    "tax(-1)"
   ]
  },
  {
   "cell_type": "code",
   "execution_count": 26,
   "id": "b511bf07-17bf-4ce0-bf81-b51db564b5db",
   "metadata": {},
   "outputs": [
    {
     "data": {
      "text/plain": [
       "'invalid'"
      ]
     },
     "execution_count": 26,
     "metadata": {},
     "output_type": "execute_result"
    }
   ],
   "source": [
    "tax(0)"
   ]
  },
  {
   "cell_type": "code",
   "execution_count": 43,
   "id": "4a368587-747d-44c3-81e0-e24903c62eff",
   "metadata": {},
   "outputs": [
    {
     "name": "stdout",
     "output_type": "stream",
     "text": [
      "26.171874999999996\n",
      "27.900055800111602\n",
      "11.734693877551022\n",
      "14.298378563870855\n"
     ]
    }
   ],
   "source": [
    "w=[67, 45, 23,50]\n",
    "h=[1.60, 1.27, 1.40,1.87]\n",
    "for i,j in zip(w,h):  #ponting values\n",
    "    print(i/(j*j))"
   ]
  },
  {
   "cell_type": "code",
   "execution_count": 44,
   "id": "ff777ded-75d9-475b-a953-4d48341e75e2",
   "metadata": {},
   "outputs": [
    {
     "name": "stdout",
     "output_type": "stream",
     "text": [
      "26.171874999999996\n",
      "27.900055800111602\n",
      "11.734693877551022\n",
      "14.298378563870855\n"
     ]
    }
   ],
   "source": [
    "for i in range(len(w)):  #ponting index\n",
    "    print(w[i]/(h[i]*h[i])) "
   ]
  },
  {
   "cell_type": "markdown",
   "id": "dabfd1b0-7481-4f62-8967-e322edaec76a",
   "metadata": {},
   "source": [
    "# Numpy"
   ]
  },
  {
   "cell_type": "code",
   "execution_count": 45,
   "id": "4c3d38e0-cabc-4ded-bc66-2a506e022477",
   "metadata": {},
   "outputs": [
    {
     "name": "stdout",
     "output_type": "stream",
     "text": [
      "[220, 24, 365, 677, 35, 665, 89, 0]\n"
     ]
    }
   ],
   "source": [
    "l1=[220, 24,365,677]\n",
    "l2=[35,665,89,0]\n",
    "print(l1+l2)"
   ]
  },
  {
   "cell_type": "code",
   "execution_count": 55,
   "id": "88a01f92-a51d-4b06-914d-1e20c7c47a96",
   "metadata": {},
   "outputs": [
    {
     "name": "stdout",
     "output_type": "stream",
     "text": [
      "[255 689 454 677]\n"
     ]
    }
   ],
   "source": [
    "import numpy as np \n",
    "a1=np.array([220, 24,365,677])\n",
    "a2=np.array([35,665,89,0])\n",
    "print(a1+a2)"
   ]
  },
  {
   "cell_type": "code",
   "execution_count": 56,
   "id": "c49f9a4a-ba3c-4afc-bee0-52ee92b2ab5a",
   "metadata": {},
   "outputs": [
    {
     "name": "stdout",
     "output_type": "stream",
     "text": [
      "[[0. 0. 0.]\n",
      " [0. 0. 0.]]\n"
     ]
    }
   ],
   "source": [
    "arr1=np.zeros((2,3))\n",
    "print(arr1)"
   ]
  },
  {
   "cell_type": "code",
   "execution_count": 57,
   "id": "1a591d36-2d34-45af-b220-5fae9a520667",
   "metadata": {},
   "outputs": [
    {
     "name": "stdout",
     "output_type": "stream",
     "text": [
      "[[1. 1. 1.]\n",
      " [1. 1. 1.]]\n"
     ]
    }
   ],
   "source": [
    "arr2=np.ones((2,3))\n",
    "print(arr2)"
   ]
  },
  {
   "cell_type": "code",
   "execution_count": 58,
   "id": "d002d33a-2e0f-4931-b162-31eedfe0c9b8",
   "metadata": {},
   "outputs": [
    {
     "name": "stdout",
     "output_type": "stream",
     "text": [
      "[[1. 0. 0.]\n",
      " [0. 1. 0.]\n",
      " [0. 0. 1.]]\n"
     ]
    }
   ],
   "source": [
    "arr3=np.eye(3)\n",
    "print(arr3)"
   ]
  },
  {
   "cell_type": "code",
   "execution_count": 59,
   "id": "aacad3ee-7ac0-436b-a0d1-fea69872b8fe",
   "metadata": {},
   "outputs": [
    {
     "name": "stdout",
     "output_type": "stream",
     "text": [
      "[[3 4 7 9]\n",
      " [1 9 3 6]]\n",
      "2\n"
     ]
    }
   ],
   "source": [
    "arr4=np.array([[3,4,7,9],[1,9,3,6]])\n",
    "print(arr4)\n",
    "print(np.ndim(arr4))"
   ]
  },
  {
   "cell_type": "code",
   "execution_count": 60,
   "id": "e2c52ba3-bfc6-4e6b-818e-0854e49c6ddd",
   "metadata": {},
   "outputs": [
    {
     "name": "stdout",
     "output_type": "stream",
     "text": [
      "(2, 4)\n"
     ]
    }
   ],
   "source": [
    "print(np.shape(arr4))"
   ]
  },
  {
   "cell_type": "code",
   "execution_count": 61,
   "id": "12c9f218-03e2-40b9-b757-57848004ba34",
   "metadata": {},
   "outputs": [
    {
     "data": {
      "text/plain": [
       "array([[3, 4],\n",
       "       [7, 9],\n",
       "       [1, 9],\n",
       "       [3, 6]])"
      ]
     },
     "execution_count": 61,
     "metadata": {},
     "output_type": "execute_result"
    }
   ],
   "source": [
    "arr5=np.array([3,4,7,9,1,9,3,6])\n",
    "arr5.reshape(4,2)"
   ]
  },
  {
   "cell_type": "code",
   "execution_count": 62,
   "id": "8bb12925-407f-401c-9733-4a63bd47ab34",
   "metadata": {},
   "outputs": [
    {
     "name": "stdout",
     "output_type": "stream",
     "text": [
      "None\n"
     ]
    }
   ],
   "source": [
    "arr6=arr5.resize(2,4)\n",
    "print(arr6)"
   ]
  },
  {
   "cell_type": "code",
   "execution_count": 63,
   "id": "7016eb70-1d55-4e14-98e3-789be0b93cf2",
   "metadata": {},
   "outputs": [
    {
     "name": "stdout",
     "output_type": "stream",
     "text": [
      "[[10 11 12 13 14]\n",
      " [15 16 17 18 19]\n",
      " [20 21 22 23 24]\n",
      " [25 26 27 28 29]\n",
      " [30 31 32 33 34]\n",
      " [35 36 37 38 39]\n",
      " [40 41 42 43 44]\n",
      " [45 46 47 48 49]]\n",
      "(8, 5)\n"
     ]
    }
   ],
   "source": [
    "arr7=np.arange(10,50).reshape(8,5)\n",
    "print(arr7)\n",
    "print(np.shape(arr7))"
   ]
  },
  {
   "cell_type": "code",
   "execution_count": 64,
   "id": "d5eb27e1-b89a-46b5-9bc6-b357ed71381a",
   "metadata": {},
   "outputs": [
    {
     "name": "stdout",
     "output_type": "stream",
     "text": [
      "[   8   16   24   32   40   48   56   64   72   80   88   96  104  112\n",
      "  120  128  136  144  152  160  168  176  184  192  200  208  216  224\n",
      "  232  240  248  256  264  272  280  288  296  304  312  320  328  336\n",
      "  344  352  360  368  376  384  392  400  408  416  424  432  440  448\n",
      "  456  464  472  480  488  496  504  512  520  528  536  544  552  560\n",
      "  568  576  584  592  600  608  616  624  632  640  648  656  664  672\n",
      "  680  688  696  704  712  720  728  736  744  752  760  768  776  784\n",
      "  792  800  808  816  824  832  840  848  856  864  872  880  888  896\n",
      "  904  912  920  928  936  944  952  960  968  976  984  992 1000]\n",
      "<class 'numpy.ndarray'>\n"
     ]
    }
   ],
   "source": [
    "arr8=np.arange(8,1001,8)\n",
    "print(arr8)\n",
    "print(type(arr8))"
   ]
  },
  {
   "cell_type": "code",
   "execution_count": 65,
   "id": "fcf6f6e0-1f94-4024-8daf-53791c004127",
   "metadata": {},
   "outputs": [
    {
     "name": "stdout",
     "output_type": "stream",
     "text": [
      "[  7  14  21  28  35  42  49  56  63  70  77  84  91  98 105 112 119 126\n",
      " 133 140 147 154 161 168 175 182 189 196 203 210 217 224 231 238 245 252\n",
      " 259 266 273 280 287 294 301 308 315 322 329 336 343 350 357 364 371 378\n",
      " 385 392 399 406 413 420 427 434 441 448 455 462 469 476 483 490 497 504\n",
      " 511 518 525 532 539 546 553 560 567 574 581 588 595 602 609 616 623 630\n",
      " 637 644 651 658 665 672 679 686 693 700]\n",
      "<class 'numpy.ndarray'>\n"
     ]
    }
   ],
   "source": [
    "seven=np.arange(7,701,7)\n",
    "print(seven)\n",
    "print(type(seven))"
   ]
  },
  {
   "cell_type": "code",
   "execution_count": 66,
   "id": "d827d3b9-d785-49d7-b3be-dbc76b908b6c",
   "metadata": {},
   "outputs": [
    {
     "name": "stdout",
     "output_type": "stream",
     "text": [
      "[2.  3.2 4.4 5.6 6.8 8. ]\n"
     ]
    }
   ],
   "source": [
    "a=np.linspace(2,8,6)  #generates 6 values with same difference between 2 and 8\n",
    "print(a)"
   ]
  },
  {
   "cell_type": "code",
   "execution_count": 67,
   "id": "a62bd54d-f349-4e62-986a-f4a9a78a8cbe",
   "metadata": {},
   "outputs": [
    {
     "name": "stdout",
     "output_type": "stream",
     "text": [
      "[[[1 2 3]\n",
      "  [4 5 6]]\n",
      "\n",
      " [[7 8 9]\n",
      "  [1 7 4]]]\n",
      "(2, 2, 3)\n",
      "3\n"
     ]
    }
   ],
   "source": [
    "a1=np.array([ [[1,2,3],[4,5,6]],[[7,8,9],[1,7,4]] ])\n",
    "print(a1)\n",
    "print(np.shape(a1))   #group, row, column\n",
    "print(np.ndim(a1))"
   ]
  },
  {
   "cell_type": "code",
   "execution_count": 68,
   "id": "9bc84f30-cd45-4677-a44b-8fc8378b4dbb",
   "metadata": {},
   "outputs": [
    {
     "name": "stdout",
     "output_type": "stream",
     "text": [
      "matrix1\n",
      " [[9 4]\n",
      " [6 7]]\n",
      "matrix2\n",
      " [[1 2]\n",
      " [3 4]]\n"
     ]
    }
   ],
   "source": [
    "m1=np.array([9,4,6,7]).reshape(2,2)\n",
    "m2=np.array([1,2,3,4]).reshape(2,2)\n",
    "print(\"matrix1\\n\",m1)\n",
    "print(\"matrix2\\n\",m2)"
   ]
  },
  {
   "cell_type": "markdown",
   "id": "65120df2-8857-4477-8d28-9e277b9311d7",
   "metadata": {},
   "source": [
    "# matrix operation"
   ]
  },
  {
   "cell_type": "code",
   "execution_count": 69,
   "id": "5b2f3c7d-2b90-411d-aadd-22b454f7a1a2",
   "metadata": {},
   "outputs": [
    {
     "name": "stdout",
     "output_type": "stream",
     "text": [
      "[[ 9  8]\n",
      " [18 28]]\n"
     ]
    }
   ],
   "source": [
    "print(m1*m2) "
   ]
  },
  {
   "cell_type": "code",
   "execution_count": 70,
   "id": "42074057-ae6b-4e4a-88e7-11704aabbffe",
   "metadata": {},
   "outputs": [
    {
     "name": "stdout",
     "output_type": "stream",
     "text": [
      "[[21 34]\n",
      " [27 40]]\n"
     ]
    }
   ],
   "source": [
    "print(m1.dot(m2))"
   ]
  },
  {
   "cell_type": "code",
   "execution_count": 71,
   "id": "8531b2bd-9eec-4ee1-9d7a-a042a9aa1ce4",
   "metadata": {},
   "outputs": [
    {
     "name": "stdout",
     "output_type": "stream",
     "text": [
      "[[21 34]\n",
      " [27 40]]\n"
     ]
    }
   ],
   "source": [
    "print(m1@m2)"
   ]
  },
  {
   "cell_type": "code",
   "execution_count": 72,
   "id": "5b9e02b6-40fa-460b-af78-2774ddf1c868",
   "metadata": {},
   "outputs": [
    {
     "name": "stdout",
     "output_type": "stream",
     "text": [
      "[[ 0.17948718 -0.1025641 ]\n",
      " [-0.15384615  0.23076923]]\n"
     ]
    }
   ],
   "source": [
    "print(np.linalg.inv(m1))"
   ]
  },
  {
   "cell_type": "markdown",
   "id": "b64d16ed-686f-47e2-8f5a-4c6dab0aeb4f",
   "metadata": {},
   "source": [
    "statistics"
   ]
  },
  {
   "cell_type": "code",
   "execution_count": 73,
   "id": "be2f1f48-0717-433c-b0ee-4d6b08d5ad0f",
   "metadata": {},
   "outputs": [
    {
     "name": "stdout",
     "output_type": "stream",
     "text": [
      "50.0\n"
     ]
    }
   ],
   "source": [
    "a1=np.array([23,45,78,90,43,21])\n",
    "print(np.mean(a1))"
   ]
  },
  {
   "cell_type": "code",
   "execution_count": 74,
   "id": "4d1d6593-397a-4fdf-887b-6416471297de",
   "metadata": {},
   "outputs": [
    {
     "name": "stdout",
     "output_type": "stream",
     "text": [
      "44.0\n"
     ]
    }
   ],
   "source": [
    "print(np.median(a1))"
   ]
  },
  {
   "cell_type": "code",
   "execution_count": 75,
   "id": "8447d2d1-a29e-483d-a5f1-55a78652cd03",
   "metadata": {},
   "outputs": [
    {
     "name": "stdout",
     "output_type": "stream",
     "text": [
      "25.9101009904117\n"
     ]
    }
   ],
   "source": [
    "print(np.std(a1))"
   ]
  },
  {
   "cell_type": "code",
   "execution_count": 76,
   "id": "32c39f61-9b59-4916-af73-eca3d49f0355",
   "metadata": {},
   "outputs": [
    {
     "name": "stdout",
     "output_type": "stream",
     "text": [
      "671.3333333333334\n"
     ]
    }
   ],
   "source": [
    "print(np.var(a1))"
   ]
  },
  {
   "cell_type": "markdown",
   "id": "649eb88e-99e9-403b-bce9-119f58ef08e1",
   "metadata": {},
   "source": [
    "trignometry"
   ]
  },
  {
   "cell_type": "code",
   "execution_count": 77,
   "id": "ec5aebf1-2b87-445f-aedd-175bffa40a54",
   "metadata": {},
   "outputs": [
    {
     "name": "stdout",
     "output_type": "stream",
     "text": [
      "3.141592653589793\n"
     ]
    }
   ],
   "source": [
    "print(np.pi)"
   ]
  },
  {
   "cell_type": "code",
   "execution_count": 78,
   "id": "fca16cf3-cbb6-4c27-8cba-a1a307c55dca",
   "metadata": {},
   "outputs": [
    {
     "name": "stdout",
     "output_type": "stream",
     "text": [
      "0.8939966636005579\n",
      "-0.9880316240928618\n",
      "0.8509035245341184\n"
     ]
    }
   ],
   "source": [
    "rad=[90,30,45]\n",
    "for i in rad:\n",
    "    print(np.sin(i))"
   ]
  },
  {
   "cell_type": "code",
   "execution_count": 79,
   "id": "a71ab5ca-266f-40ab-b1a8-4b979ab27350",
   "metadata": {},
   "outputs": [
    {
     "name": "stdout",
     "output_type": "stream",
     "text": [
      "-0.4480736161291701\n",
      "0.15425144988758405\n",
      "0.5253219888177297\n"
     ]
    }
   ],
   "source": [
    "rad=[90,30,45]\n",
    "for i in rad:\n",
    "    print(np.cos(i))"
   ]
  },
  {
   "cell_type": "code",
   "execution_count": 80,
   "id": "ad5b53f7-d483-4b20-a573-acf1e90265e3",
   "metadata": {},
   "outputs": [
    {
     "name": "stdout",
     "output_type": "stream",
     "text": [
      "0.7071067811865476\n",
      "1.0\n",
      "0.8660254037844386\n"
     ]
    }
   ],
   "source": [
    "deg=[np.pi/4,np.pi/2,np.pi/3]\n",
    "for i in deg:\n",
    "    print(np.sin(i))"
   ]
  },
  {
   "cell_type": "markdown",
   "id": "67cb79e0-f6bd-4641-8b5e-7e9344634b18",
   "metadata": {},
   "source": [
    "arith,etic operations"
   ]
  },
  {
   "cell_type": "code",
   "execution_count": 81,
   "id": "9981b8b6-56c1-4e92-b536-6ec8b42454c6",
   "metadata": {},
   "outputs": [
    {
     "name": "stdout",
     "output_type": "stream",
     "text": [
      "22\n"
     ]
    }
   ],
   "source": [
    "a=np.array([8,3,4])\n",
    "b=np.array([2,1,4])\n",
    "print(np.sum((a,b)))"
   ]
  },
  {
   "cell_type": "code",
   "execution_count": 82,
   "id": "d25070f2-ad75-4da1-96e0-c6e020d5a34f",
   "metadata": {},
   "outputs": [
    {
     "name": "stdout",
     "output_type": "stream",
     "text": [
      "[ 8 11 15]\n"
     ]
    }
   ],
   "source": [
    "print(np.cumsum(a))"
   ]
  },
  {
   "cell_type": "code",
   "execution_count": 83,
   "id": "8447c6dd-6847-4849-93e7-9a53bb64cb7b",
   "metadata": {},
   "outputs": [
    {
     "name": "stdout",
     "output_type": "stream",
     "text": [
      "[[ 1  2  3]\n",
      " [ 5  7  9]\n",
      " [12 15 18]]\n"
     ]
    }
   ],
   "source": [
    "c=np.array([[1,2,3],[4,5,6],[7,8,9]])\n",
    "print(np.cumsum(c,axis=0))   #column"
   ]
  },
  {
   "cell_type": "code",
   "execution_count": 84,
   "id": "9c6fdd80-25d4-4f0b-a76b-1fea5609835d",
   "metadata": {},
   "outputs": [
    {
     "name": "stdout",
     "output_type": "stream",
     "text": [
      "[[ 1  3  6]\n",
      " [ 4  9 15]\n",
      " [ 7 15 24]]\n"
     ]
    }
   ],
   "source": [
    "c=np.array([[1,2,3],[4,5,6],[7,8,9]])\n",
    "print(np.cumsum(c,axis=1))   #row"
   ]
  },
  {
   "cell_type": "code",
   "execution_count": 85,
   "id": "566b105d-341c-4d07-b2a9-d0466b2ea766",
   "metadata": {},
   "outputs": [
    {
     "name": "stdout",
     "output_type": "stream",
     "text": [
      "768\n"
     ]
    }
   ],
   "source": [
    "print(np.prod((a,b)))"
   ]
  },
  {
   "cell_type": "code",
   "execution_count": 86,
   "id": "ded8d41d-a6c2-4ce0-b151-0daaf33e8c5b",
   "metadata": {},
   "outputs": [
    {
     "name": "stdout",
     "output_type": "stream",
     "text": [
      "[     1      2      6     24    120    720   5040  40320 362880]\n"
     ]
    }
   ],
   "source": [
    "print(np.cumprod(c))"
   ]
  },
  {
   "cell_type": "code",
   "execution_count": 87,
   "id": "c04a69fc-c2f9-4d54-aefa-04b3a6913ad3",
   "metadata": {},
   "outputs": [
    {
     "name": "stdout",
     "output_type": "stream",
     "text": [
      "[[  1   2   3]\n",
      " [  4  10  18]\n",
      " [ 28  80 162]]\n"
     ]
    }
   ],
   "source": [
    "print(np.cumprod(c,axis=0))"
   ]
  },
  {
   "cell_type": "code",
   "execution_count": 88,
   "id": "93cc9d11-f89f-4f33-a6bd-8abab83bc2e1",
   "metadata": {},
   "outputs": [
    {
     "name": "stdout",
     "output_type": "stream",
     "text": [
      "[[  1   2   6]\n",
      " [  4  20 120]\n",
      " [  7  56 504]]\n"
     ]
    }
   ],
   "source": [
    "print(np.cumprod(c,axis=1))"
   ]
  },
  {
   "cell_type": "code",
   "execution_count": 89,
   "id": "b05473f4-f113-485f-a9ea-b0d1ae3fff0e",
   "metadata": {},
   "outputs": [
    {
     "name": "stdout",
     "output_type": "stream",
     "text": [
      "[18  4 33]\n"
     ]
    }
   ],
   "source": [
    "a=np.array([81,32,74])\n",
    "b=np.array([21,14,41])\n",
    "print(np.mod(a,b))"
   ]
  },
  {
   "cell_type": "code",
   "execution_count": 90,
   "id": "c9f18437-6338-48ce-8ba1-768c93d5c655",
   "metadata": {},
   "outputs": [
    {
     "name": "stdout",
     "output_type": "stream",
     "text": [
      "(array([3, 2, 1]), array([18,  4, 33]))\n"
     ]
    }
   ],
   "source": [
    "print(np.divmod(a,b))"
   ]
  },
  {
   "cell_type": "code",
   "execution_count": 115,
   "id": "07f18719-d477-45c8-85c3-c60ae0bf1d30",
   "metadata": {},
   "outputs": [
    {
     "name": "stdout",
     "output_type": "stream",
     "text": [
      "7.3484692283495345\n"
     ]
    }
   ],
   "source": [
    "n1=54\n",
    "n2=21\n",
    "print(np.sqrt(n1))"
   ]
  },
  {
   "cell_type": "code",
   "execution_count": 116,
   "id": "41b9e6df-0e6e-4f2b-8822-d352d59a153f",
   "metadata": {},
   "outputs": [
    {
     "name": "stdout",
     "output_type": "stream",
     "text": [
      "378\n"
     ]
    }
   ],
   "source": [
    "print(np.lcm(n1,n2))"
   ]
  },
  {
   "cell_type": "code",
   "execution_count": 117,
   "id": "986dffe9-1eff-4e1f-bb30-9e34a9169d11",
   "metadata": {},
   "outputs": [
    {
     "name": "stdout",
     "output_type": "stream",
     "text": [
      "3\n"
     ]
    }
   ],
   "source": [
    "print(np.gcd(n1,n2))"
   ]
  },
  {
   "cell_type": "code",
   "execution_count": 118,
   "id": "edbba20b-3a82-418a-ad09-d0de1868884c",
   "metadata": {},
   "outputs": [
    {
     "name": "stdout",
     "output_type": "stream",
     "text": [
      "95904\n"
     ]
    }
   ],
   "source": [
    "a=np.array([81,32,74])\n",
    "print(np.lcm.reduce(a))"
   ]
  },
  {
   "cell_type": "code",
   "execution_count": 123,
   "id": "070eb140-2153-4ba4-b94b-33507aa6e16f",
   "metadata": {},
   "outputs": [
    {
     "name": "stdout",
     "output_type": "stream",
     "text": [
      "1\n"
     ]
    }
   ],
   "source": [
    "print(np.gcd.reduce(a))"
   ]
  },
  {
   "cell_type": "code",
   "execution_count": 124,
   "id": "5f4935a2-1a25-425d-befa-6a729023c844",
   "metadata": {},
   "outputs": [
    {
     "name": "stdout",
     "output_type": "stream",
     "text": [
      "3.8066624897703196\n"
     ]
    }
   ],
   "source": [
    "n=45\n",
    "print(np.log(n))"
   ]
  },
  {
   "cell_type": "code",
   "execution_count": 125,
   "id": "2a4adba1-8c5a-4add-a1fb-fde2a8c426f4",
   "metadata": {},
   "outputs": [
    {
     "name": "stdout",
     "output_type": "stream",
     "text": [
      "1.6532125137753437\n"
     ]
    }
   ],
   "source": [
    "print(np.log10(n))"
   ]
  },
  {
   "cell_type": "code",
   "execution_count": 126,
   "id": "df70232d-906b-47b5-8e16-3a3e5504f6af",
   "metadata": {},
   "outputs": [
    {
     "name": "stdout",
     "output_type": "stream",
     "text": [
      "5.491853096329675\n"
     ]
    }
   ],
   "source": [
    "print(np.log2(n))"
   ]
  },
  {
   "cell_type": "markdown",
   "id": "834d224f-1126-45a3-9ae0-aebc1b16cdd0",
   "metadata": {},
   "source": [
    "UNIVERSAL FUN"
   ]
  },
  {
   "cell_type": "code",
   "execution_count": 91,
   "id": "aa1d8c1d-af42-4945-92a0-bec2d3ced197",
   "metadata": {},
   "outputs": [
    {
     "name": "stdout",
     "output_type": "stream",
     "text": [
      "1236\n"
     ]
    }
   ],
   "source": [
    "a=np.array([12,35,87,643,3,6,8,1236])\n",
    "print(max(a))"
   ]
  },
  {
   "cell_type": "code",
   "execution_count": 92,
   "id": "869faecc-ef61-4c56-9016-54abb4c8c125",
   "metadata": {},
   "outputs": [
    {
     "name": "stdout",
     "output_type": "stream",
     "text": [
      "3\n"
     ]
    }
   ],
   "source": [
    "print(min(a))"
   ]
  },
  {
   "cell_type": "code",
   "execution_count": 93,
   "id": "0eb72a05-92a1-4f39-9b23-1c175ebd38d4",
   "metadata": {},
   "outputs": [
    {
     "name": "stdout",
     "output_type": "stream",
     "text": [
      "[   3    6    8   12   35   87  643 1236]\n"
     ]
    }
   ],
   "source": [
    "b=np.array([12,35,87,643,3,6,8,1236])\n",
    "b.sort()\n",
    "print(b)"
   ]
  },
  {
   "cell_type": "code",
   "execution_count": 94,
   "id": "1dd48fd8-c70a-4660-81ef-daf695143e6e",
   "metadata": {},
   "outputs": [
    {
     "name": "stdout",
     "output_type": "stream",
     "text": [
      "[  12   35   87  643    3    6    8 1236]\n",
      "[3, 6, 8, 12, 35, 87, 643, 1236]\n"
     ]
    }
   ],
   "source": [
    "c=np.array([12,35,87,643,3,6,8,1236])\n",
    "d=sorted(c)\n",
    "print(c)\n",
    "print(d)"
   ]
  },
  {
   "cell_type": "raw",
   "id": "d2d086d2-cd64-4e4f-ba01-09d47ab74bdc",
   "metadata": {},
   "source": [
    "rounding"
   ]
  },
  {
   "cell_type": "code",
   "execution_count": 95,
   "id": "71a40ba6-ae5d-4c4c-be47-3e77b4386c8a",
   "metadata": {},
   "outputs": [
    {
     "name": "stdout",
     "output_type": "stream",
     "text": [
      "[ 2. -7.]\n"
     ]
    }
   ],
   "source": [
    "s2=np.array([1.23,-7.23])\n",
    "print(np.ceil(s2))"
   ]
  },
  {
   "cell_type": "code",
   "execution_count": 96,
   "id": "a0df91a0-0d66-49df-bae6-23754636c8bf",
   "metadata": {},
   "outputs": [
    {
     "name": "stdout",
     "output_type": "stream",
     "text": [
      "[ 1. -8.]\n"
     ]
    }
   ],
   "source": [
    "s2=np.array([1.23,-7.23])\n",
    "print(np.floor(s2))"
   ]
  },
  {
   "cell_type": "markdown",
   "id": "30ab1577-bb73-4fe7-a0db-956c12b7f337",
   "metadata": {},
   "source": [
    "random module"
   ]
  },
  {
   "cell_type": "code",
   "execution_count": 98,
   "id": "0c274b28-d46f-4c2a-91d1-a84ae84bc7ab",
   "metadata": {},
   "outputs": [],
   "source": [
    "import numpy.random as rd"
   ]
  },
  {
   "cell_type": "code",
   "execution_count": 100,
   "id": "9be9dc29-d6dc-4db6-b6c6-c33883c926e9",
   "metadata": {},
   "outputs": [
    {
     "name": "stdout",
     "output_type": "stream",
     "text": [
      "[0.71363097 0.20945292]\n"
     ]
    }
   ],
   "source": [
    "ran1=rd.rand(2)\n",
    "print(ran1)"
   ]
  },
  {
   "cell_type": "code",
   "execution_count": 103,
   "id": "7c020ccc-409c-4be1-ba5a-ebc12a20469b",
   "metadata": {},
   "outputs": [
    {
     "name": "stdout",
     "output_type": "stream",
     "text": [
      "4\n"
     ]
    }
   ],
   "source": [
    "ran2=rd.randint(5)  #0 to 5 random numbers\n",
    "print(ran2)"
   ]
  },
  {
   "cell_type": "code",
   "execution_count": 104,
   "id": "14de1818-ccb8-45e5-a026-0edca22e366d",
   "metadata": {},
   "outputs": [
    {
     "name": "stdout",
     "output_type": "stream",
     "text": [
      "[3 0 0 1 2 1]\n"
     ]
    }
   ],
   "source": [
    "ran3=rd.randint(5,size=(6))  #limit ,size\n",
    "print(ran3)"
   ]
  },
  {
   "cell_type": "code",
   "execution_count": 106,
   "id": "e53c15e0-7aa3-47c3-84d5-fc96796ec14c",
   "metadata": {},
   "outputs": [
    {
     "name": "stdout",
     "output_type": "stream",
     "text": [
      "[[[1 2 3]\n",
      "  [3 0 2]]\n",
      "\n",
      " [[1 0 2]\n",
      "  [2 1 1]]\n",
      "\n",
      " [[0 0 0]\n",
      "  [1 2 3]]\n",
      "\n",
      " [[3 0 0]\n",
      "  [3 0 4]]\n",
      "\n",
      " [[3 3 4]\n",
      "  [4 3 4]]\n",
      "\n",
      " [[4 0 0]\n",
      "  [3 2 0]]]\n"
     ]
    }
   ],
   "source": [
    "ran4=rd.randint(5,size=(6,2,3))  #limit ,size(g,r,c)\n",
    "print(ran4)"
   ]
  },
  {
   "cell_type": "markdown",
   "id": "d855790d-36e4-4c6c-93e1-eebc1d2c567a",
   "metadata": {},
   "source": [
    "stack"
   ]
  },
  {
   "cell_type": "code",
   "execution_count": 107,
   "id": "254072c9-097a-4ecd-a69d-9c90cfa6af89",
   "metadata": {},
   "outputs": [
    {
     "name": "stdout",
     "output_type": "stream",
     "text": [
      "[[ 1  2 34]\n",
      " [ 5 67 88]]\n",
      "\n",
      "\n",
      "[[15 32 39]\n",
      " [58 37 81]]\n"
     ]
    }
   ],
   "source": [
    "ar1=np.array([[1,2,34],[5,67,88]])\n",
    "ar2=np.array([[15,32,39],[58,37,81]])\n",
    "print(ar1)\n",
    "print(\"\\n\")\n",
    "print(ar2)"
   ]
  },
  {
   "cell_type": "code",
   "execution_count": 109,
   "id": "493de393-8da8-4608-907f-36c1e46de38e",
   "metadata": {},
   "outputs": [
    {
     "name": "stdout",
     "output_type": "stream",
     "text": [
      "[[ 1  2 34 15 32 39]\n",
      " [ 5 67 88 58 37 81]]\n"
     ]
    }
   ],
   "source": [
    "ar3=np.hstack((ar1,ar2))  #side by side\n",
    "print(ar3)"
   ]
  },
  {
   "cell_type": "code",
   "execution_count": 110,
   "id": "365594c3-ff23-4b93-889b-34b96307a3a2",
   "metadata": {},
   "outputs": [
    {
     "name": "stdout",
     "output_type": "stream",
     "text": [
      "[[ 1  2 34]\n",
      " [ 5 67 88]\n",
      " [15 32 39]\n",
      " [58 37 81]]\n"
     ]
    }
   ],
   "source": [
    "ar3=np.vstack((ar1,ar2))  #one top of another\n",
    "print(ar3)"
   ]
  },
  {
   "cell_type": "code",
   "execution_count": 112,
   "id": "a117bc9a-f1e0-461e-8005-36eda313b801",
   "metadata": {},
   "outputs": [
    {
     "name": "stdout",
     "output_type": "stream",
     "text": [
      "[[[ 1  2]\n",
      "  [ 3  4]]\n",
      "\n",
      " [[ 5  6]\n",
      "  [ 7  8]]\n",
      "\n",
      " [[ 9 10]\n",
      "  [11 12]]]\n"
     ]
    }
   ],
   "source": [
    "ar4=np.arange(1,13).reshape(3,2,2)\n",
    "print(ar4)"
   ]
  },
  {
   "cell_type": "code",
   "execution_count": 128,
   "id": "0db17eed-354e-4fa2-aa0b-670ca6cfda5b",
   "metadata": {},
   "outputs": [
    {
     "name": "stdout",
     "output_type": "stream",
     "text": [
      "[[[ 1  5  9]\n",
      "  [ 2  6 10]]\n",
      "\n",
      " [[ 3  7 11]\n",
      "  [ 4  8 12]]]\n"
     ]
    }
   ],
   "source": [
    "ar5=np.dstack(ar4)   #rows are arranged as colums from all group \n",
    "print(ar5)"
   ]
  },
  {
   "cell_type": "code",
   "execution_count": 129,
   "id": "71b523ec-30e9-49f4-ad9f-2e8a1885cfd5",
   "metadata": {},
   "outputs": [
    {
     "name": "stdout",
     "output_type": "stream",
     "text": [
      "(array([0, 2], dtype=int64),)\n"
     ]
    }
   ],
   "source": [
    "col1=np.array([44,33,12,83,55])\n",
    "index=np.where(col1%2==0)\n",
    "print(index)"
   ]
  },
  {
   "cell_type": "code",
   "execution_count": 130,
   "id": "c31f65e8-edec-4ee9-a7ae-7dc64a083e6d",
   "metadata": {},
   "outputs": [
    {
     "name": "stdout",
     "output_type": "stream",
     "text": [
      "(array([1, 2, 3, 4, 5], dtype=int64),)\n",
      "(array([0, 3, 4, 5], dtype=int64),)\n"
     ]
    }
   ],
   "source": [
    "col2=np.array([50,33,21,15,60,45])\n",
    "index1=np.where(col2%3==0)\n",
    "index2=np.where(col2%5==0)\n",
    "print(index1)\n",
    "print(index2)"
   ]
  },
  {
   "cell_type": "code",
   "execution_count": 134,
   "id": "14af6f29-7e37-41ad-a947-fc26df85bf8f",
   "metadata": {},
   "outputs": [
    {
     "name": "stdout",
     "output_type": "stream",
     "text": [
      "(array([3, 4, 5], dtype=int64),)\n"
     ]
    }
   ],
   "source": [
    "col=np.array([50,33,21,15,60,45])\n",
    "index1=np.where((col%3==0) & (col%5==0))\n",
    "print(index1)"
   ]
  }
 ],
 "metadata": {
  "kernelspec": {
   "display_name": "Python 3 (ipykernel)",
   "language": "python",
   "name": "python3"
  },
  "language_info": {
   "codemirror_mode": {
    "name": "ipython",
    "version": 3
   },
   "file_extension": ".py",
   "mimetype": "text/x-python",
   "name": "python",
   "nbconvert_exporter": "python",
   "pygments_lexer": "ipython3",
   "version": "3.11.7"
  }
 },
 "nbformat": 4,
 "nbformat_minor": 5
}
